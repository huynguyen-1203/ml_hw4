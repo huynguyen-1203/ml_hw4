{
 "cells": [
  {
   "cell_type": "code",
   "execution_count": 8,
   "id": "1104d9a5",
   "metadata": {},
   "outputs": [
    {
     "name": "stdout",
     "output_type": "stream",
     "text": [
      "Estimated coefficient for linear model is\n",
      " theta = [ 2.00000579e+03  1.00000199e+00 -1.00000222e+02]\n"
     ]
    },
    {
     "data": {
      "image/png": "[encoded data removed]",
      "text/plain": [
       "<Figure size 432x288 with 1 Axes>"
      ]
     },
     "metadata": {},
     "output_type": "display_data"
    }
   ],
   "source": [
    "import numpy as np\n",
    "import matplotlib.pyplot as plt\n",
    "\n",
    "\n",
    "def load(file_path):\n",
    "    data_x = np.loadtxt(file_path, delimiter=',', skiprows=1, usecols=0)\n",
    "    data_y = np.loadtxt(file_path, delimiter=',', skiprows=1, usecols=1)\n",
    "    return data_x, data_y\n",
    "\n",
    "\n",
    "def insert_col(x):\n",
    "    \"\"\"Add second order column and intercept\"\"\"\n",
    "    square = np.square(x)\n",
    "    intercept = np.ones(x.shape[0])\n",
    "    new_x = np.column_stack((intercept, square, x))  # always use column stack for these cases\n",
    "    return new_x\n",
    "\n",
    "\n",
    "class Parabol:\n",
    "    def __init__(self, x, y):\n",
    "        self.theta = None\n",
    "        self.x = x\n",
    "        self.y = y\n",
    "\n",
    "    def fit(self):\n",
    "        x_new = insert_column(self.x)\n",
    "        p = np.linalg.inv(x_new.T.dot(x_new))\n",
    "        self.theta = p.dot(x_new.T).dot(self.y)\n",
    "        return self.theta\n",
    "\n",
    "    def predict(self, inp):\n",
    "        inp = insert_column(inp)\n",
    "        return inp.dot(self.theta)\n",
    "\n",
    "    def plot(self, save_path):\n",
    "        # Plot the dataset\n",
    "        plt.figure()\n",
    "        plt.style.use('seaborn-whitegrid')\n",
    "        plt.plot(self.x, self.y, 'co', linewidth=2)\n",
    "\n",
    "        # Plot the prediction line\n",
    "        margin1 = (np.max(self.x) - np.min(self.x)) * 0.2\n",
    "        margin2 = (np.max(self.y) - np.min(self.y)) * 0.2\n",
    "        y_pred = self.predict(self.x)\n",
    "        plt.plot(self.x, y_pred, color='red', linewidth=2)\n",
    "\n",
    "        plt.xlim(np.min(self.x) - margin1, np.max(self.x) + margin1)\n",
    "        plt.ylim(np.min(self.y) - margin2, np.max(self.y) + margin2)\n",
    "        plt.xlabel('x')\n",
    "        plt.ylabel('y')\n",
    "        plt.savefig(save_path)\n",
    "        plt.show()\n",
    "\n",
    "\n",
    "def main():\n",
    "    x, y = load(file_path=\"C:Downloads\\data_square.csv\")\n",
    "    model = Parabol(x, y)\n",
    "    theta = model.fit()\n",
    "    print(f'Estimated coefficient for linear model is\\n theta = {theta}')\n",
    "    model.plot(save_path='C:Downloads\\Problem 1.png')\n",
    "\n",
    "\n",
    "if __name__ == \"__main__\":\n",
    "    main()"
   ]
  },
  {
   "cell_type": "code",
   "execution_count": null,
   "id": "00895e42",
   "metadata": {},
   "outputs": [],
   "source": []
  }
 ],
 "metadata": {
  "kernelspec": {
   "display_name": "Python 3",
   "language": "python",
   "name": "python3"
  },
  "language_info": {
   "codemirror_mode": {
    "name": "ipython",
    "version": 3
   },
   "file_extension": ".py",
   "mimetype": "text/x-python",
   "name": "python",
   "nbconvert_exporter": "python",
   "pygments_lexer": "ipython3",
   "version": "3.8.8"
  }
 },
 "nbformat": 4,
 "nbformat_minor": 5
}
